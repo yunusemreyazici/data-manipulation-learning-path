{
 "cells": [
  {
   "cell_type": "markdown",
   "id": "c52fa827-d2c8-482b-84ec-3f58658ff880",
   "metadata": {},
   "source": [
    "# Numpy çalışmaları"
   ]
  },
  {
   "cell_type": "code",
   "execution_count": 1,
   "id": "97bd8a1b-b417-4d5a-a701-a209d0523c99",
   "metadata": {},
   "outputs": [],
   "source": [
    "import numpy as np"
   ]
  },
  {
   "cell_type": "markdown",
   "id": "e5d06ab7-dfb4-49c0-b585-f2bad1758553",
   "metadata": {},
   "source": [
    "####  1) numpy array oluşturma"
   ]
  },
  {
   "cell_type": "code",
   "execution_count": null,
   "id": "a4fe72f8-55aa-4b7f-8dce-109eff8cb8e2",
   "metadata": {
    "pycharm": {
     "is_executing": true
    }
   },
   "outputs": [],
   "source": [
    "np.array([11,33,55,77,99])"
   ]
  },
  {
   "cell_type": "code",
   "execution_count": null,
   "id": "dcf98110-4c4e-4412-b85f-cffd1721c94b",
   "metadata": {
    "pycharm": {
     "is_executing": true
    }
   },
   "outputs": [],
   "source": [
    "a= np.array([32,78,56,41,53])"
   ]
  },
  {
   "cell_type": "code",
   "execution_count": null,
   "outputs": [],
   "source": [],
   "metadata": {
    "collapsed": false
   }
  },
  {
   "cell_type": "code",
   "execution_count": null,
   "id": "e574697d-bef9-4efe-9607-198d7c7a852b",
   "metadata": {
    "pycharm": {
     "is_executing": true
    }
   },
   "outputs": [],
   "source": [
    "type(a)"
   ]
  },
  {
   "cell_type": "code",
   "execution_count": null,
   "id": "c4e83fca-fa2a-4f25-b9ff-d457f9b00515",
   "metadata": {
    "pycharm": {
     "is_executing": true
    }
   },
   "outputs": [],
   "source": [
    "#numpy sabit tip baskısı yapar"
   ]
  },
  {
   "cell_type": "code",
   "execution_count": null,
   "id": "3eb09b4f-3492-43fb-b319-44d55a4d16fb",
   "metadata": {
    "pycharm": {
     "is_executing": true
    }
   },
   "outputs": [],
   "source": [
    "## mesela bir tane ondalıklı geriye kalan dizinin öğelerini tamsayı olan bir dizi yazalım ve neler olacağına bakalım"
   ]
  },
  {
   "cell_type": "code",
   "execution_count": null,
   "id": "05480eb3-54d5-40cd-9a88-49df987c70af",
   "metadata": {
    "pycharm": {
     "is_executing": true
    }
   },
   "outputs": [],
   "source": [
    "np.array([1.3,8,81,98,43,89])"
   ]
  },
  {
   "cell_type": "code",
   "execution_count": null,
   "id": "04534b8d-2346-4fc2-bc9f-85ab96149ae8",
   "metadata": {
    "pycharm": {
     "is_executing": true
    }
   },
   "outputs": [],
   "source": [
    "## tip baskısından dolayı dizinin hepsini ondalıklı sayıya çevirdi numpy"
   ]
  },
  {
   "cell_type": "code",
   "execution_count": null,
   "id": "77e52e05-bcbd-4d83-9e6c-0c130797052f",
   "metadata": {
    "pycharm": {
     "is_executing": true
    }
   },
   "outputs": [],
   "source": [
    "# ama ayarlama yapabilmekteyiz şöyleki\n"
   ]
  },
  {
   "cell_type": "code",
   "execution_count": null,
   "id": "9833f65e-f1d6-4270-9cd8-abb944267379",
   "metadata": {
    "pycharm": {
     "is_executing": true
    }
   },
   "outputs": [],
   "source": [
    "np.array([1.3,2,5,3], dtype=\"int\")"
   ]
  },
  {
   "cell_type": "code",
   "execution_count": null,
   "outputs": [],
   "source": [],
   "metadata": {
    "collapsed": false
   }
  }
 ],
 "metadata": {
  "kernelspec": {
   "display_name": "Python 3 (ipykernel)",
   "language": "python",
   "name": "python3"
  },
  "language_info": {
   "codemirror_mode": {
    "name": "ipython",
    "version": 3
   },
   "file_extension": ".py",
   "mimetype": "text/x-python",
   "name": "python",
   "nbconvert_exporter": "python",
   "pygments_lexer": "ipython3",
   "version": "3.10.9"
  }
 },
 "nbformat": 4,
 "nbformat_minor": 5
}
