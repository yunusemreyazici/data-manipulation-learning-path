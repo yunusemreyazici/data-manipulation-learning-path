{
 "cells": [
  {
   "cell_type": "markdown",
   "id": "c52fa827-d2c8-482b-84ec-3f58658ff880",
   "metadata": {},
   "source": [
    "# Numpy çalışmaları"
   ]
  },
  {
   "cell_type": "code",
   "execution_count": 2,
   "id": "97bd8a1b-b417-4d5a-a701-a209d0523c99",
   "metadata": {},
   "outputs": [],
   "source": [
    "import numpy as np"
   ]
  },
  {
   "cell_type": "markdown",
   "id": "e5d06ab7-dfb4-49c0-b585-f2bad1758553",
   "metadata": {},
   "source": [
    "####  1) numpy array oluşturma"
   ]
  },
  {
   "cell_type": "code",
   "execution_count": 3,
   "id": "a4fe72f8-55aa-4b7f-8dce-109eff8cb8e2",
   "metadata": {},
   "outputs": [
    {
     "data": {
      "text/plain": "array([11, 33, 55, 77, 99])"
     },
     "execution_count": 3,
     "metadata": {},
     "output_type": "execute_result"
    }
   ],
   "source": [
    "np.array([11,33,55,77,99])"
   ]
  },
  {
   "cell_type": "code",
   "execution_count": 4,
   "id": "dcf98110-4c4e-4412-b85f-cffd1721c94b",
   "metadata": {},
   "outputs": [],
   "source": [
    "a= np.array([32,78,56,41,53])"
   ]
  },
  {
   "cell_type": "code",
   "execution_count": 5,
   "id": "e574697d-bef9-4efe-9607-198d7c7a852b",
   "metadata": {},
   "outputs": [
    {
     "data": {
      "text/plain": "numpy.ndarray"
     },
     "execution_count": 5,
     "metadata": {},
     "output_type": "execute_result"
    }
   ],
   "source": [
    "type(a)"
   ]
  },
  {
   "cell_type": "markdown",
   "source": [
    "#### numpy sabit tip baskısı yapar"
   ],
   "metadata": {
    "collapsed": false
   }
  },
  {
   "cell_type": "markdown",
   "source": [
    "##### mesela bir tane ondalıklı geriye kalan dizinin öğelerini tamsayı olan bir dizi yazalım ve neler olacağına bakalım"
   ],
   "metadata": {
    "collapsed": false
   }
  },
  {
   "cell_type": "code",
   "execution_count": 8,
   "id": "05480eb3-54d5-40cd-9a88-49df987c70af",
   "metadata": {},
   "outputs": [
    {
     "data": {
      "text/plain": "array([ 1.3,  8. , 81. , 98. , 43. , 89. ])"
     },
     "execution_count": 8,
     "metadata": {},
     "output_type": "execute_result"
    }
   ],
   "source": [
    "np.array([1.3,8,81,98,43,89])"
   ]
  },
  {
   "cell_type": "markdown",
   "source": [
    "#### tip baskısından dolayı dizinin hepsini ondalıklı sayıya çevirdi numpy"
   ],
   "metadata": {
    "collapsed": false
   }
  },
  {
   "cell_type": "markdown",
   "source": [
    "##### ama ayarlama yapabilmekteyiz şöyleki:\n"
   ],
   "metadata": {
    "collapsed": false
   }
  },
  {
   "cell_type": "code",
   "execution_count": 11,
   "id": "9833f65e-f1d6-4270-9cd8-abb944267379",
   "metadata": {},
   "outputs": [
    {
     "data": {
      "text/plain": "array([1, 2, 5, 3])"
     },
     "execution_count": 11,
     "metadata": {},
     "output_type": "execute_result"
    }
   ],
   "source": [
    "np.array([1.3,2,5,3], dtype=\"int\")"
   ]
  },
  {
   "cell_type": "markdown",
   "source": [
    "### 2- Sifirdan array olusturma"
   ],
   "metadata": {
    "collapsed": false
   }
  },
  {
   "cell_type": "code",
   "execution_count": 13,
   "outputs": [
    {
     "data": {
      "text/plain": "array([0, 0, 0, 0, 0, 0, 0, 0, 0, 0])"
     },
     "execution_count": 13,
     "metadata": {},
     "output_type": "execute_result"
    }
   ],
   "source": [
    "np.zeros(10,dtype = int)"
   ],
   "metadata": {
    "collapsed": false
   }
  },
  {
   "cell_type": "code",
   "execution_count": 14,
   "outputs": [
    {
     "data": {
      "text/plain": "array([[1, 1, 1, 1, 1],\n       [1, 1, 1, 1, 1],\n       [1, 1, 1, 1, 1]])"
     },
     "execution_count": 14,
     "metadata": {},
     "output_type": "execute_result"
    }
   ],
   "source": [
    "np.ones((3,5),dtype=int)"
   ],
   "metadata": {
    "collapsed": false
   }
  },
  {
   "cell_type": "code",
   "execution_count": 15,
   "outputs": [
    {
     "data": {
      "text/plain": "array([[3, 3, 3, 3, 3],\n       [3, 3, 3, 3, 3],\n       [3, 3, 3, 3, 3]])"
     },
     "execution_count": 15,
     "metadata": {},
     "output_type": "execute_result"
    }
   ],
   "source": [
    "np.full((3,5),3)"
   ],
   "metadata": {
    "collapsed": false
   }
  },
  {
   "cell_type": "code",
   "execution_count": 17,
   "outputs": [
    {
     "data": {
      "text/plain": "array([ 0,  3,  6,  9, 12, 15, 18, 21, 24, 27, 30])"
     },
     "execution_count": 17,
     "metadata": {},
     "output_type": "execute_result"
    }
   ],
   "source": [
    "np.arange(0,31,3)"
   ],
   "metadata": {
    "collapsed": false
   }
  },
  {
   "cell_type": "code",
   "execution_count": 18,
   "outputs": [
    {
     "data": {
      "text/plain": "array([0.        , 0.11111111, 0.22222222, 0.33333333, 0.44444444,\n       0.55555556, 0.66666667, 0.77777778, 0.88888889, 1.        ])"
     },
     "execution_count": 18,
     "metadata": {},
     "output_type": "execute_result"
    }
   ],
   "source": [
    "np.linspace(0,1,10)"
   ],
   "metadata": {
    "collapsed": false
   }
  },
  {
   "cell_type": "code",
   "execution_count": 20,
   "outputs": [
    {
     "data": {
      "text/plain": "array([[10.27899419, 11.6007527 , 10.0797457 ,  9.13130815],\n       [ 5.30673973,  5.85789221,  7.77540395,  7.57855908],\n       [ 6.1180158 ,  2.32769352, 10.91269948,  8.54763392]])"
     },
     "execution_count": 20,
     "metadata": {},
     "output_type": "execute_result"
    }
   ],
   "source": [
    "np.random.normal(10,4,(3,4))"
   ],
   "metadata": {
    "collapsed": false
   }
  },
  {
   "cell_type": "code",
   "execution_count": 21,
   "outputs": [
    {
     "data": {
      "text/plain": "array([[9, 8, 2],\n       [1, 6, 3],\n       [8, 0, 7]])"
     },
     "execution_count": 21,
     "metadata": {},
     "output_type": "execute_result"
    }
   ],
   "source": [
    "np.random.randint(0,10,(3,3))"
   ],
   "metadata": {
    "collapsed": false
   }
  },
  {
   "cell_type": "code",
   "execution_count": null,
   "outputs": [],
   "source": [],
   "metadata": {
    "collapsed": false
   }
  }
 ],
 "metadata": {
  "kernelspec": {
   "display_name": "Python 3 (ipykernel)",
   "language": "python",
   "name": "python3"
  },
  "language_info": {
   "codemirror_mode": {
    "name": "ipython",
    "version": 3
   },
   "file_extension": ".py",
   "mimetype": "text/x-python",
   "name": "python",
   "nbconvert_exporter": "python",
   "pygments_lexer": "ipython3",
   "version": "3.10.9"
  }
 },
 "nbformat": 4,
 "nbformat_minor": 5
}
