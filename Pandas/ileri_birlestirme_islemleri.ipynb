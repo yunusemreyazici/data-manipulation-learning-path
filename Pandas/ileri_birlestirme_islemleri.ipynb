{
 "cells": [
  {
   "cell_type": "markdown",
   "source": [
    "# İleri Birleştirme İşlemleri\n"
   ],
   "metadata": {
    "collapsed": false
   }
  },
  {
   "cell_type": "code",
   "execution_count": 35,
   "metadata": {
    "collapsed": true
   },
   "outputs": [],
   "source": [
    "import pandas as pd"
   ]
  },
  {
   "cell_type": "markdown",
   "source": [
    "birebir birlesirme"
   ],
   "metadata": {
    "collapsed": false
   }
  },
  {
   "cell_type": "code",
   "execution_count": 36,
   "outputs": [],
   "source": [
    "df1= pd.DataFrame({'calisanlar':['Ali','Veli','Ayse','Fatma'],'grup':['muhasebe','muhendislik','muhendislik','IK']})"
   ],
   "metadata": {
    "collapsed": false
   }
  },
  {
   "cell_type": "code",
   "execution_count": 37,
   "outputs": [
    {
     "data": {
      "text/plain": "  calisanlar         grup\n0        Ali     muhasebe\n1       Veli  muhendislik\n2       Ayse  muhendislik\n3      Fatma           IK",
      "text/html": "<div>\n<style scoped>\n    .dataframe tbody tr th:only-of-type {\n        vertical-align: middle;\n    }\n\n    .dataframe tbody tr th {\n        vertical-align: top;\n    }\n\n    .dataframe thead th {\n        text-align: right;\n    }\n</style>\n<table border=\"1\" class=\"dataframe\">\n  <thead>\n    <tr style=\"text-align: right;\">\n      <th></th>\n      <th>calisanlar</th>\n      <th>grup</th>\n    </tr>\n  </thead>\n  <tbody>\n    <tr>\n      <th>0</th>\n      <td>Ali</td>\n      <td>muhasebe</td>\n    </tr>\n    <tr>\n      <th>1</th>\n      <td>Veli</td>\n      <td>muhendislik</td>\n    </tr>\n    <tr>\n      <th>2</th>\n      <td>Ayse</td>\n      <td>muhendislik</td>\n    </tr>\n    <tr>\n      <th>3</th>\n      <td>Fatma</td>\n      <td>IK</td>\n    </tr>\n  </tbody>\n</table>\n</div>"
     },
     "execution_count": 37,
     "metadata": {},
     "output_type": "execute_result"
    }
   ],
   "source": [
    "df1"
   ],
   "metadata": {
    "collapsed": false
   }
  },
  {
   "cell_type": "code",
   "execution_count": 38,
   "outputs": [],
   "source": [
    "df2= pd.DataFrame({'calisanlar':['Ali','Veli','Ayse','Fatma'],'ilk giris':[2010,2009,2014,2019]})"
   ],
   "metadata": {
    "collapsed": false
   }
  },
  {
   "cell_type": "code",
   "execution_count": 39,
   "outputs": [
    {
     "data": {
      "text/plain": "  calisanlar  ilk giris\n0        Ali       2010\n1       Veli       2009\n2       Ayse       2014\n3      Fatma       2019",
      "text/html": "<div>\n<style scoped>\n    .dataframe tbody tr th:only-of-type {\n        vertical-align: middle;\n    }\n\n    .dataframe tbody tr th {\n        vertical-align: top;\n    }\n\n    .dataframe thead th {\n        text-align: right;\n    }\n</style>\n<table border=\"1\" class=\"dataframe\">\n  <thead>\n    <tr style=\"text-align: right;\">\n      <th></th>\n      <th>calisanlar</th>\n      <th>ilk giris</th>\n    </tr>\n  </thead>\n  <tbody>\n    <tr>\n      <th>0</th>\n      <td>Ali</td>\n      <td>2010</td>\n    </tr>\n    <tr>\n      <th>1</th>\n      <td>Veli</td>\n      <td>2009</td>\n    </tr>\n    <tr>\n      <th>2</th>\n      <td>Ayse</td>\n      <td>2014</td>\n    </tr>\n    <tr>\n      <th>3</th>\n      <td>Fatma</td>\n      <td>2019</td>\n    </tr>\n  </tbody>\n</table>\n</div>"
     },
     "execution_count": 39,
     "metadata": {},
     "output_type": "execute_result"
    }
   ],
   "source": [
    "df2"
   ],
   "metadata": {
    "collapsed": false
   }
  },
  {
   "cell_type": "code",
   "execution_count": 40,
   "outputs": [
    {
     "data": {
      "text/plain": "  calisanlar         grup  ilk giris\n0        Ali     muhasebe       2010\n1       Veli  muhendislik       2009\n2       Ayse  muhendislik       2014\n3      Fatma           IK       2019",
      "text/html": "<div>\n<style scoped>\n    .dataframe tbody tr th:only-of-type {\n        vertical-align: middle;\n    }\n\n    .dataframe tbody tr th {\n        vertical-align: top;\n    }\n\n    .dataframe thead th {\n        text-align: right;\n    }\n</style>\n<table border=\"1\" class=\"dataframe\">\n  <thead>\n    <tr style=\"text-align: right;\">\n      <th></th>\n      <th>calisanlar</th>\n      <th>grup</th>\n      <th>ilk giris</th>\n    </tr>\n  </thead>\n  <tbody>\n    <tr>\n      <th>0</th>\n      <td>Ali</td>\n      <td>muhasebe</td>\n      <td>2010</td>\n    </tr>\n    <tr>\n      <th>1</th>\n      <td>Veli</td>\n      <td>muhendislik</td>\n      <td>2009</td>\n    </tr>\n    <tr>\n      <th>2</th>\n      <td>Ayse</td>\n      <td>muhendislik</td>\n      <td>2014</td>\n    </tr>\n    <tr>\n      <th>3</th>\n      <td>Fatma</td>\n      <td>IK</td>\n      <td>2019</td>\n    </tr>\n  </tbody>\n</table>\n</div>"
     },
     "execution_count": 40,
     "metadata": {},
     "output_type": "execute_result"
    }
   ],
   "source": [
    "pd.merge(df1,df2)"
   ],
   "metadata": {
    "collapsed": false
   }
  },
  {
   "cell_type": "code",
   "execution_count": 41,
   "outputs": [
    {
     "data": {
      "text/plain": "  calisanlar         grup  ilk giris\n0        Ali     muhasebe       2010\n1       Veli  muhendislik       2009\n2       Ayse  muhendislik       2014\n3      Fatma           IK       2019",
      "text/html": "<div>\n<style scoped>\n    .dataframe tbody tr th:only-of-type {\n        vertical-align: middle;\n    }\n\n    .dataframe tbody tr th {\n        vertical-align: top;\n    }\n\n    .dataframe thead th {\n        text-align: right;\n    }\n</style>\n<table border=\"1\" class=\"dataframe\">\n  <thead>\n    <tr style=\"text-align: right;\">\n      <th></th>\n      <th>calisanlar</th>\n      <th>grup</th>\n      <th>ilk giris</th>\n    </tr>\n  </thead>\n  <tbody>\n    <tr>\n      <th>0</th>\n      <td>Ali</td>\n      <td>muhasebe</td>\n      <td>2010</td>\n    </tr>\n    <tr>\n      <th>1</th>\n      <td>Veli</td>\n      <td>muhendislik</td>\n      <td>2009</td>\n    </tr>\n    <tr>\n      <th>2</th>\n      <td>Ayse</td>\n      <td>muhendislik</td>\n      <td>2014</td>\n    </tr>\n    <tr>\n      <th>3</th>\n      <td>Fatma</td>\n      <td>IK</td>\n      <td>2019</td>\n    </tr>\n  </tbody>\n</table>\n</div>"
     },
     "execution_count": 41,
     "metadata": {},
     "output_type": "execute_result"
    }
   ],
   "source": [
    "pd.merge(df1,df2,on=\"calisanlar\")"
   ],
   "metadata": {
    "collapsed": false
   }
  },
  {
   "cell_type": "markdown",
   "source": [
    "çoktan teke"
   ],
   "metadata": {
    "collapsed": false
   }
  },
  {
   "cell_type": "code",
   "execution_count": 42,
   "outputs": [],
   "source": [
    "df3 =pd.merge(df1,df2)"
   ],
   "metadata": {
    "collapsed": false
   }
  },
  {
   "cell_type": "code",
   "execution_count": 43,
   "outputs": [
    {
     "data": {
      "text/plain": "  calisanlar         grup  ilk giris\n0        Ali     muhasebe       2010\n1       Veli  muhendislik       2009\n2       Ayse  muhendislik       2014\n3      Fatma           IK       2019",
      "text/html": "<div>\n<style scoped>\n    .dataframe tbody tr th:only-of-type {\n        vertical-align: middle;\n    }\n\n    .dataframe tbody tr th {\n        vertical-align: top;\n    }\n\n    .dataframe thead th {\n        text-align: right;\n    }\n</style>\n<table border=\"1\" class=\"dataframe\">\n  <thead>\n    <tr style=\"text-align: right;\">\n      <th></th>\n      <th>calisanlar</th>\n      <th>grup</th>\n      <th>ilk giris</th>\n    </tr>\n  </thead>\n  <tbody>\n    <tr>\n      <th>0</th>\n      <td>Ali</td>\n      <td>muhasebe</td>\n      <td>2010</td>\n    </tr>\n    <tr>\n      <th>1</th>\n      <td>Veli</td>\n      <td>muhendislik</td>\n      <td>2009</td>\n    </tr>\n    <tr>\n      <th>2</th>\n      <td>Ayse</td>\n      <td>muhendislik</td>\n      <td>2014</td>\n    </tr>\n    <tr>\n      <th>3</th>\n      <td>Fatma</td>\n      <td>IK</td>\n      <td>2019</td>\n    </tr>\n  </tbody>\n</table>\n</div>"
     },
     "execution_count": 43,
     "metadata": {},
     "output_type": "execute_result"
    }
   ],
   "source": [
    "df3"
   ],
   "metadata": {
    "collapsed": false
   }
  },
  {
   "cell_type": "code",
   "execution_count": 44,
   "outputs": [],
   "source": [
    "df4 = pd.DataFrame({'grup':['muhasebe','muhendislik','IK'],'mudur':['Caner','Mustafa','Berkcan']})"
   ],
   "metadata": {
    "collapsed": false
   }
  },
  {
   "cell_type": "code",
   "execution_count": 45,
   "outputs": [
    {
     "data": {
      "text/plain": "          grup    mudur\n0     muhasebe    Caner\n1  muhendislik  Mustafa\n2           IK  Berkcan",
      "text/html": "<div>\n<style scoped>\n    .dataframe tbody tr th:only-of-type {\n        vertical-align: middle;\n    }\n\n    .dataframe tbody tr th {\n        vertical-align: top;\n    }\n\n    .dataframe thead th {\n        text-align: right;\n    }\n</style>\n<table border=\"1\" class=\"dataframe\">\n  <thead>\n    <tr style=\"text-align: right;\">\n      <th></th>\n      <th>grup</th>\n      <th>mudur</th>\n    </tr>\n  </thead>\n  <tbody>\n    <tr>\n      <th>0</th>\n      <td>muhasebe</td>\n      <td>Caner</td>\n    </tr>\n    <tr>\n      <th>1</th>\n      <td>muhendislik</td>\n      <td>Mustafa</td>\n    </tr>\n    <tr>\n      <th>2</th>\n      <td>IK</td>\n      <td>Berkcan</td>\n    </tr>\n  </tbody>\n</table>\n</div>"
     },
     "execution_count": 45,
     "metadata": {},
     "output_type": "execute_result"
    }
   ],
   "source": [
    "df4"
   ],
   "metadata": {
    "collapsed": false
   }
  },
  {
   "cell_type": "code",
   "execution_count": 46,
   "outputs": [
    {
     "data": {
      "text/plain": "  calisanlar         grup  ilk giris    mudur\n0        Ali     muhasebe       2010    Caner\n1       Veli  muhendislik       2009  Mustafa\n2       Ayse  muhendislik       2014  Mustafa\n3      Fatma           IK       2019  Berkcan",
      "text/html": "<div>\n<style scoped>\n    .dataframe tbody tr th:only-of-type {\n        vertical-align: middle;\n    }\n\n    .dataframe tbody tr th {\n        vertical-align: top;\n    }\n\n    .dataframe thead th {\n        text-align: right;\n    }\n</style>\n<table border=\"1\" class=\"dataframe\">\n  <thead>\n    <tr style=\"text-align: right;\">\n      <th></th>\n      <th>calisanlar</th>\n      <th>grup</th>\n      <th>ilk giris</th>\n      <th>mudur</th>\n    </tr>\n  </thead>\n  <tbody>\n    <tr>\n      <th>0</th>\n      <td>Ali</td>\n      <td>muhasebe</td>\n      <td>2010</td>\n      <td>Caner</td>\n    </tr>\n    <tr>\n      <th>1</th>\n      <td>Veli</td>\n      <td>muhendislik</td>\n      <td>2009</td>\n      <td>Mustafa</td>\n    </tr>\n    <tr>\n      <th>2</th>\n      <td>Ayse</td>\n      <td>muhendislik</td>\n      <td>2014</td>\n      <td>Mustafa</td>\n    </tr>\n    <tr>\n      <th>3</th>\n      <td>Fatma</td>\n      <td>IK</td>\n      <td>2019</td>\n      <td>Berkcan</td>\n    </tr>\n  </tbody>\n</table>\n</div>"
     },
     "execution_count": 46,
     "metadata": {},
     "output_type": "execute_result"
    }
   ],
   "source": [
    "pd.merge(df3,df4)"
   ],
   "metadata": {
    "collapsed": false
   }
  },
  {
   "cell_type": "markdown",
   "source": [
    "çoktan çoka"
   ],
   "metadata": {
    "collapsed": false
   }
  },
  {
   "cell_type": "code",
   "execution_count": 47,
   "outputs": [],
   "source": [
    "df5=pd.DataFrame({'grup':['muhasebe','muhasebe','muhendislik','muhendislik','IK','IK'],'yetenekler':['matematik','exel','kodlama','linux','exel','yonetim']})"
   ],
   "metadata": {
    "collapsed": false
   }
  },
  {
   "cell_type": "code",
   "execution_count": 48,
   "outputs": [
    {
     "data": {
      "text/plain": "          grup yetenekler\n0     muhasebe  matematik\n1     muhasebe       exel\n2  muhendislik    kodlama\n3  muhendislik      linux\n4           IK       exel\n5           IK    yonetim",
      "text/html": "<div>\n<style scoped>\n    .dataframe tbody tr th:only-of-type {\n        vertical-align: middle;\n    }\n\n    .dataframe tbody tr th {\n        vertical-align: top;\n    }\n\n    .dataframe thead th {\n        text-align: right;\n    }\n</style>\n<table border=\"1\" class=\"dataframe\">\n  <thead>\n    <tr style=\"text-align: right;\">\n      <th></th>\n      <th>grup</th>\n      <th>yetenekler</th>\n    </tr>\n  </thead>\n  <tbody>\n    <tr>\n      <th>0</th>\n      <td>muhasebe</td>\n      <td>matematik</td>\n    </tr>\n    <tr>\n      <th>1</th>\n      <td>muhasebe</td>\n      <td>exel</td>\n    </tr>\n    <tr>\n      <th>2</th>\n      <td>muhendislik</td>\n      <td>kodlama</td>\n    </tr>\n    <tr>\n      <th>3</th>\n      <td>muhendislik</td>\n      <td>linux</td>\n    </tr>\n    <tr>\n      <th>4</th>\n      <td>IK</td>\n      <td>exel</td>\n    </tr>\n    <tr>\n      <th>5</th>\n      <td>IK</td>\n      <td>yonetim</td>\n    </tr>\n  </tbody>\n</table>\n</div>"
     },
     "execution_count": 48,
     "metadata": {},
     "output_type": "execute_result"
    }
   ],
   "source": [
    "df5"
   ],
   "metadata": {
    "collapsed": false
   }
  },
  {
   "cell_type": "code",
   "execution_count": 49,
   "outputs": [
    {
     "data": {
      "text/plain": "  calisanlar         grup\n0        Ali     muhasebe\n1       Veli  muhendislik\n2       Ayse  muhendislik\n3      Fatma           IK",
      "text/html": "<div>\n<style scoped>\n    .dataframe tbody tr th:only-of-type {\n        vertical-align: middle;\n    }\n\n    .dataframe tbody tr th {\n        vertical-align: top;\n    }\n\n    .dataframe thead th {\n        text-align: right;\n    }\n</style>\n<table border=\"1\" class=\"dataframe\">\n  <thead>\n    <tr style=\"text-align: right;\">\n      <th></th>\n      <th>calisanlar</th>\n      <th>grup</th>\n    </tr>\n  </thead>\n  <tbody>\n    <tr>\n      <th>0</th>\n      <td>Ali</td>\n      <td>muhasebe</td>\n    </tr>\n    <tr>\n      <th>1</th>\n      <td>Veli</td>\n      <td>muhendislik</td>\n    </tr>\n    <tr>\n      <th>2</th>\n      <td>Ayse</td>\n      <td>muhendislik</td>\n    </tr>\n    <tr>\n      <th>3</th>\n      <td>Fatma</td>\n      <td>IK</td>\n    </tr>\n  </tbody>\n</table>\n</div>"
     },
     "execution_count": 49,
     "metadata": {},
     "output_type": "execute_result"
    }
   ],
   "source": [
    "df1"
   ],
   "metadata": {
    "collapsed": false
   }
  },
  {
   "cell_type": "code",
   "execution_count": 50,
   "outputs": [
    {
     "data": {
      "text/plain": "  calisanlar         grup yetenekler\n0        Ali     muhasebe  matematik\n1        Ali     muhasebe       exel\n2       Veli  muhendislik    kodlama\n3       Veli  muhendislik      linux\n4       Ayse  muhendislik    kodlama\n5       Ayse  muhendislik      linux\n6      Fatma           IK       exel\n7      Fatma           IK    yonetim",
      "text/html": "<div>\n<style scoped>\n    .dataframe tbody tr th:only-of-type {\n        vertical-align: middle;\n    }\n\n    .dataframe tbody tr th {\n        vertical-align: top;\n    }\n\n    .dataframe thead th {\n        text-align: right;\n    }\n</style>\n<table border=\"1\" class=\"dataframe\">\n  <thead>\n    <tr style=\"text-align: right;\">\n      <th></th>\n      <th>calisanlar</th>\n      <th>grup</th>\n      <th>yetenekler</th>\n    </tr>\n  </thead>\n  <tbody>\n    <tr>\n      <th>0</th>\n      <td>Ali</td>\n      <td>muhasebe</td>\n      <td>matematik</td>\n    </tr>\n    <tr>\n      <th>1</th>\n      <td>Ali</td>\n      <td>muhasebe</td>\n      <td>exel</td>\n    </tr>\n    <tr>\n      <th>2</th>\n      <td>Veli</td>\n      <td>muhendislik</td>\n      <td>kodlama</td>\n    </tr>\n    <tr>\n      <th>3</th>\n      <td>Veli</td>\n      <td>muhendislik</td>\n      <td>linux</td>\n    </tr>\n    <tr>\n      <th>4</th>\n      <td>Ayse</td>\n      <td>muhendislik</td>\n      <td>kodlama</td>\n    </tr>\n    <tr>\n      <th>5</th>\n      <td>Ayse</td>\n      <td>muhendislik</td>\n      <td>linux</td>\n    </tr>\n    <tr>\n      <th>6</th>\n      <td>Fatma</td>\n      <td>IK</td>\n      <td>exel</td>\n    </tr>\n    <tr>\n      <th>7</th>\n      <td>Fatma</td>\n      <td>IK</td>\n      <td>yonetim</td>\n    </tr>\n  </tbody>\n</table>\n</div>"
     },
     "execution_count": 50,
     "metadata": {},
     "output_type": "execute_result"
    }
   ],
   "source": [
    "pd.merge(df1,df5)"
   ],
   "metadata": {
    "collapsed": false
   }
  },
  {
   "cell_type": "code",
   "execution_count": null,
   "outputs": [],
   "source": [],
   "metadata": {
    "collapsed": false
   }
  }
 ],
 "metadata": {
  "kernelspec": {
   "display_name": "Python 3",
   "language": "python",
   "name": "python3"
  },
  "language_info": {
   "codemirror_mode": {
    "name": "ipython",
    "version": 2
   },
   "file_extension": ".py",
   "mimetype": "text/x-python",
   "name": "python",
   "nbconvert_exporter": "python",
   "pygments_lexer": "ipython2",
   "version": "2.7.6"
  }
 },
 "nbformat": 4,
 "nbformat_minor": 0
}
