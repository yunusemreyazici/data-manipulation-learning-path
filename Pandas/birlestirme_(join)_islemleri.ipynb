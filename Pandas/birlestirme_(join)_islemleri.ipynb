{
 "cells": [
  {
   "cell_type": "markdown",
   "source": [
    "# Birleştirme (Join) İşlemleri"
   ],
   "metadata": {
    "collapsed": false
   }
  },
  {
   "cell_type": "code",
   "execution_count": 1,
   "metadata": {
    "collapsed": true
   },
   "outputs": [],
   "source": [
    "import numpy as np"
   ]
  },
  {
   "cell_type": "code",
   "execution_count": 2,
   "outputs": [],
   "source": [
    "import pandas as pd"
   ],
   "metadata": {
    "collapsed": false
   }
  },
  {
   "cell_type": "code",
   "execution_count": 3,
   "outputs": [],
   "source": [
    "m = np.random.randint(1,30,size=(5,3))"
   ],
   "metadata": {
    "collapsed": false
   }
  },
  {
   "cell_type": "code",
   "execution_count": 6,
   "outputs": [],
   "source": [
    "df1 = pd.DataFrame(m,columns=[\"var1\",\"var2\",\"var3\"])"
   ],
   "metadata": {
    "collapsed": false
   }
  },
  {
   "cell_type": "code",
   "execution_count": 7,
   "outputs": [
    {
     "data": {
      "text/plain": "   var1  var2  var3\n0    20    19    17\n1    19    21     6\n2    23    12    22\n3     5    26     1\n4     7    12     9",
      "text/html": "<div>\n<style scoped>\n    .dataframe tbody tr th:only-of-type {\n        vertical-align: middle;\n    }\n\n    .dataframe tbody tr th {\n        vertical-align: top;\n    }\n\n    .dataframe thead th {\n        text-align: right;\n    }\n</style>\n<table border=\"1\" class=\"dataframe\">\n  <thead>\n    <tr style=\"text-align: right;\">\n      <th></th>\n      <th>var1</th>\n      <th>var2</th>\n      <th>var3</th>\n    </tr>\n  </thead>\n  <tbody>\n    <tr>\n      <th>0</th>\n      <td>20</td>\n      <td>19</td>\n      <td>17</td>\n    </tr>\n    <tr>\n      <th>1</th>\n      <td>19</td>\n      <td>21</td>\n      <td>6</td>\n    </tr>\n    <tr>\n      <th>2</th>\n      <td>23</td>\n      <td>12</td>\n      <td>22</td>\n    </tr>\n    <tr>\n      <th>3</th>\n      <td>5</td>\n      <td>26</td>\n      <td>1</td>\n    </tr>\n    <tr>\n      <th>4</th>\n      <td>7</td>\n      <td>12</td>\n      <td>9</td>\n    </tr>\n  </tbody>\n</table>\n</div>"
     },
     "execution_count": 7,
     "metadata": {},
     "output_type": "execute_result"
    }
   ],
   "source": [
    "df1"
   ],
   "metadata": {
    "collapsed": false
   }
  },
  {
   "cell_type": "code",
   "execution_count": 8,
   "outputs": [],
   "source": [
    "df2 = df1+99"
   ],
   "metadata": {
    "collapsed": false
   }
  },
  {
   "cell_type": "code",
   "execution_count": 9,
   "outputs": [
    {
     "data": {
      "text/plain": "   var1  var2  var3\n0   119   118   116\n1   118   120   105\n2   122   111   121\n3   104   125   100\n4   106   111   108",
      "text/html": "<div>\n<style scoped>\n    .dataframe tbody tr th:only-of-type {\n        vertical-align: middle;\n    }\n\n    .dataframe tbody tr th {\n        vertical-align: top;\n    }\n\n    .dataframe thead th {\n        text-align: right;\n    }\n</style>\n<table border=\"1\" class=\"dataframe\">\n  <thead>\n    <tr style=\"text-align: right;\">\n      <th></th>\n      <th>var1</th>\n      <th>var2</th>\n      <th>var3</th>\n    </tr>\n  </thead>\n  <tbody>\n    <tr>\n      <th>0</th>\n      <td>119</td>\n      <td>118</td>\n      <td>116</td>\n    </tr>\n    <tr>\n      <th>1</th>\n      <td>118</td>\n      <td>120</td>\n      <td>105</td>\n    </tr>\n    <tr>\n      <th>2</th>\n      <td>122</td>\n      <td>111</td>\n      <td>121</td>\n    </tr>\n    <tr>\n      <th>3</th>\n      <td>104</td>\n      <td>125</td>\n      <td>100</td>\n    </tr>\n    <tr>\n      <th>4</th>\n      <td>106</td>\n      <td>111</td>\n      <td>108</td>\n    </tr>\n  </tbody>\n</table>\n</div>"
     },
     "execution_count": 9,
     "metadata": {},
     "output_type": "execute_result"
    }
   ],
   "source": [
    "df2"
   ],
   "metadata": {
    "collapsed": false
   }
  },
  {
   "cell_type": "code",
   "execution_count": 10,
   "outputs": [
    {
     "data": {
      "text/plain": "   var1  var2  var3\n0    20    19    17\n1    19    21     6\n2    23    12    22\n3     5    26     1\n4     7    12     9\n0   119   118   116\n1   118   120   105\n2   122   111   121\n3   104   125   100\n4   106   111   108",
      "text/html": "<div>\n<style scoped>\n    .dataframe tbody tr th:only-of-type {\n        vertical-align: middle;\n    }\n\n    .dataframe tbody tr th {\n        vertical-align: top;\n    }\n\n    .dataframe thead th {\n        text-align: right;\n    }\n</style>\n<table border=\"1\" class=\"dataframe\">\n  <thead>\n    <tr style=\"text-align: right;\">\n      <th></th>\n      <th>var1</th>\n      <th>var2</th>\n      <th>var3</th>\n    </tr>\n  </thead>\n  <tbody>\n    <tr>\n      <th>0</th>\n      <td>20</td>\n      <td>19</td>\n      <td>17</td>\n    </tr>\n    <tr>\n      <th>1</th>\n      <td>19</td>\n      <td>21</td>\n      <td>6</td>\n    </tr>\n    <tr>\n      <th>2</th>\n      <td>23</td>\n      <td>12</td>\n      <td>22</td>\n    </tr>\n    <tr>\n      <th>3</th>\n      <td>5</td>\n      <td>26</td>\n      <td>1</td>\n    </tr>\n    <tr>\n      <th>4</th>\n      <td>7</td>\n      <td>12</td>\n      <td>9</td>\n    </tr>\n    <tr>\n      <th>0</th>\n      <td>119</td>\n      <td>118</td>\n      <td>116</td>\n    </tr>\n    <tr>\n      <th>1</th>\n      <td>118</td>\n      <td>120</td>\n      <td>105</td>\n    </tr>\n    <tr>\n      <th>2</th>\n      <td>122</td>\n      <td>111</td>\n      <td>121</td>\n    </tr>\n    <tr>\n      <th>3</th>\n      <td>104</td>\n      <td>125</td>\n      <td>100</td>\n    </tr>\n    <tr>\n      <th>4</th>\n      <td>106</td>\n      <td>111</td>\n      <td>108</td>\n    </tr>\n  </tbody>\n</table>\n</div>"
     },
     "execution_count": 10,
     "metadata": {},
     "output_type": "execute_result"
    }
   ],
   "source": [
    "pd.concat([df1,df2])"
   ],
   "metadata": {
    "collapsed": false
   }
  },
  {
   "cell_type": "code",
   "execution_count": 11,
   "outputs": [
    {
     "data": {
      "text/plain": "   var1  var2  var3\n0    20    19    17\n1    19    21     6\n2    23    12    22\n3     5    26     1\n4     7    12     9\n5   119   118   116\n6   118   120   105\n7   122   111   121\n8   104   125   100\n9   106   111   108",
      "text/html": "<div>\n<style scoped>\n    .dataframe tbody tr th:only-of-type {\n        vertical-align: middle;\n    }\n\n    .dataframe tbody tr th {\n        vertical-align: top;\n    }\n\n    .dataframe thead th {\n        text-align: right;\n    }\n</style>\n<table border=\"1\" class=\"dataframe\">\n  <thead>\n    <tr style=\"text-align: right;\">\n      <th></th>\n      <th>var1</th>\n      <th>var2</th>\n      <th>var3</th>\n    </tr>\n  </thead>\n  <tbody>\n    <tr>\n      <th>0</th>\n      <td>20</td>\n      <td>19</td>\n      <td>17</td>\n    </tr>\n    <tr>\n      <th>1</th>\n      <td>19</td>\n      <td>21</td>\n      <td>6</td>\n    </tr>\n    <tr>\n      <th>2</th>\n      <td>23</td>\n      <td>12</td>\n      <td>22</td>\n    </tr>\n    <tr>\n      <th>3</th>\n      <td>5</td>\n      <td>26</td>\n      <td>1</td>\n    </tr>\n    <tr>\n      <th>4</th>\n      <td>7</td>\n      <td>12</td>\n      <td>9</td>\n    </tr>\n    <tr>\n      <th>5</th>\n      <td>119</td>\n      <td>118</td>\n      <td>116</td>\n    </tr>\n    <tr>\n      <th>6</th>\n      <td>118</td>\n      <td>120</td>\n      <td>105</td>\n    </tr>\n    <tr>\n      <th>7</th>\n      <td>122</td>\n      <td>111</td>\n      <td>121</td>\n    </tr>\n    <tr>\n      <th>8</th>\n      <td>104</td>\n      <td>125</td>\n      <td>100</td>\n    </tr>\n    <tr>\n      <th>9</th>\n      <td>106</td>\n      <td>111</td>\n      <td>108</td>\n    </tr>\n  </tbody>\n</table>\n</div>"
     },
     "execution_count": 11,
     "metadata": {},
     "output_type": "execute_result"
    }
   ],
   "source": [
    "pd.concat([df1,df2],ignore_index=True)"
   ],
   "metadata": {
    "collapsed": false
   }
  },
  {
   "cell_type": "code",
   "execution_count": 14,
   "outputs": [
    {
     "data": {
      "text/plain": "Index(['var1', 'var2', 'var3'], dtype='object')"
     },
     "execution_count": 14,
     "metadata": {},
     "output_type": "execute_result"
    }
   ],
   "source": [
    "df1.columns"
   ],
   "metadata": {
    "collapsed": false
   }
  },
  {
   "cell_type": "code",
   "execution_count": 15,
   "outputs": [
    {
     "data": {
      "text/plain": "Index(['var1', 'var2', 'var3'], dtype='object')"
     },
     "execution_count": 15,
     "metadata": {},
     "output_type": "execute_result"
    }
   ],
   "source": [
    "df2.columns"
   ],
   "metadata": {
    "collapsed": false
   }
  },
  {
   "cell_type": "code",
   "execution_count": 16,
   "outputs": [],
   "source": [
    "df2.columns=[\"var1\",\"var2\",\"deg3\"]"
   ],
   "metadata": {
    "collapsed": false
   }
  },
  {
   "cell_type": "code",
   "execution_count": 19,
   "outputs": [
    {
     "data": {
      "text/plain": "   var1  var2  deg3\n0   119   118   116\n1   118   120   105\n2   122   111   121\n3   104   125   100\n4   106   111   108",
      "text/html": "<div>\n<style scoped>\n    .dataframe tbody tr th:only-of-type {\n        vertical-align: middle;\n    }\n\n    .dataframe tbody tr th {\n        vertical-align: top;\n    }\n\n    .dataframe thead th {\n        text-align: right;\n    }\n</style>\n<table border=\"1\" class=\"dataframe\">\n  <thead>\n    <tr style=\"text-align: right;\">\n      <th></th>\n      <th>var1</th>\n      <th>var2</th>\n      <th>deg3</th>\n    </tr>\n  </thead>\n  <tbody>\n    <tr>\n      <th>0</th>\n      <td>119</td>\n      <td>118</td>\n      <td>116</td>\n    </tr>\n    <tr>\n      <th>1</th>\n      <td>118</td>\n      <td>120</td>\n      <td>105</td>\n    </tr>\n    <tr>\n      <th>2</th>\n      <td>122</td>\n      <td>111</td>\n      <td>121</td>\n    </tr>\n    <tr>\n      <th>3</th>\n      <td>104</td>\n      <td>125</td>\n      <td>100</td>\n    </tr>\n    <tr>\n      <th>4</th>\n      <td>106</td>\n      <td>111</td>\n      <td>108</td>\n    </tr>\n  </tbody>\n</table>\n</div>"
     },
     "execution_count": 19,
     "metadata": {},
     "output_type": "execute_result"
    }
   ],
   "source": [
    "df2"
   ],
   "metadata": {
    "collapsed": false
   }
  },
  {
   "cell_type": "code",
   "execution_count": 20,
   "outputs": [
    {
     "data": {
      "text/plain": "   var1  var2  var3   deg3\n0    20    19  17.0    NaN\n1    19    21   6.0    NaN\n2    23    12  22.0    NaN\n3     5    26   1.0    NaN\n4     7    12   9.0    NaN\n0   119   118   NaN  116.0\n1   118   120   NaN  105.0\n2   122   111   NaN  121.0\n3   104   125   NaN  100.0\n4   106   111   NaN  108.0",
      "text/html": "<div>\n<style scoped>\n    .dataframe tbody tr th:only-of-type {\n        vertical-align: middle;\n    }\n\n    .dataframe tbody tr th {\n        vertical-align: top;\n    }\n\n    .dataframe thead th {\n        text-align: right;\n    }\n</style>\n<table border=\"1\" class=\"dataframe\">\n  <thead>\n    <tr style=\"text-align: right;\">\n      <th></th>\n      <th>var1</th>\n      <th>var2</th>\n      <th>var3</th>\n      <th>deg3</th>\n    </tr>\n  </thead>\n  <tbody>\n    <tr>\n      <th>0</th>\n      <td>20</td>\n      <td>19</td>\n      <td>17.0</td>\n      <td>NaN</td>\n    </tr>\n    <tr>\n      <th>1</th>\n      <td>19</td>\n      <td>21</td>\n      <td>6.0</td>\n      <td>NaN</td>\n    </tr>\n    <tr>\n      <th>2</th>\n      <td>23</td>\n      <td>12</td>\n      <td>22.0</td>\n      <td>NaN</td>\n    </tr>\n    <tr>\n      <th>3</th>\n      <td>5</td>\n      <td>26</td>\n      <td>1.0</td>\n      <td>NaN</td>\n    </tr>\n    <tr>\n      <th>4</th>\n      <td>7</td>\n      <td>12</td>\n      <td>9.0</td>\n      <td>NaN</td>\n    </tr>\n    <tr>\n      <th>0</th>\n      <td>119</td>\n      <td>118</td>\n      <td>NaN</td>\n      <td>116.0</td>\n    </tr>\n    <tr>\n      <th>1</th>\n      <td>118</td>\n      <td>120</td>\n      <td>NaN</td>\n      <td>105.0</td>\n    </tr>\n    <tr>\n      <th>2</th>\n      <td>122</td>\n      <td>111</td>\n      <td>NaN</td>\n      <td>121.0</td>\n    </tr>\n    <tr>\n      <th>3</th>\n      <td>104</td>\n      <td>125</td>\n      <td>NaN</td>\n      <td>100.0</td>\n    </tr>\n    <tr>\n      <th>4</th>\n      <td>106</td>\n      <td>111</td>\n      <td>NaN</td>\n      <td>108.0</td>\n    </tr>\n  </tbody>\n</table>\n</div>"
     },
     "execution_count": 20,
     "metadata": {},
     "output_type": "execute_result"
    }
   ],
   "source": [
    "pd.concat([df1,df2])"
   ],
   "metadata": {
    "collapsed": false
   }
  },
  {
   "cell_type": "code",
   "execution_count": 21,
   "outputs": [
    {
     "data": {
      "text/plain": "   var1  var2\n0    20    19\n1    19    21\n2    23    12\n3     5    26\n4     7    12\n0   119   118\n1   118   120\n2   122   111\n3   104   125\n4   106   111",
      "text/html": "<div>\n<style scoped>\n    .dataframe tbody tr th:only-of-type {\n        vertical-align: middle;\n    }\n\n    .dataframe tbody tr th {\n        vertical-align: top;\n    }\n\n    .dataframe thead th {\n        text-align: right;\n    }\n</style>\n<table border=\"1\" class=\"dataframe\">\n  <thead>\n    <tr style=\"text-align: right;\">\n      <th></th>\n      <th>var1</th>\n      <th>var2</th>\n    </tr>\n  </thead>\n  <tbody>\n    <tr>\n      <th>0</th>\n      <td>20</td>\n      <td>19</td>\n    </tr>\n    <tr>\n      <th>1</th>\n      <td>19</td>\n      <td>21</td>\n    </tr>\n    <tr>\n      <th>2</th>\n      <td>23</td>\n      <td>12</td>\n    </tr>\n    <tr>\n      <th>3</th>\n      <td>5</td>\n      <td>26</td>\n    </tr>\n    <tr>\n      <th>4</th>\n      <td>7</td>\n      <td>12</td>\n    </tr>\n    <tr>\n      <th>0</th>\n      <td>119</td>\n      <td>118</td>\n    </tr>\n    <tr>\n      <th>1</th>\n      <td>118</td>\n      <td>120</td>\n    </tr>\n    <tr>\n      <th>2</th>\n      <td>122</td>\n      <td>111</td>\n    </tr>\n    <tr>\n      <th>3</th>\n      <td>104</td>\n      <td>125</td>\n    </tr>\n    <tr>\n      <th>4</th>\n      <td>106</td>\n      <td>111</td>\n    </tr>\n  </tbody>\n</table>\n</div>"
     },
     "execution_count": 21,
     "metadata": {},
     "output_type": "execute_result"
    }
   ],
   "source": [
    "pd.concat([df1,df2],join=\"inner\")"
   ],
   "metadata": {
    "collapsed": false
   }
  }
 ],
 "metadata": {
  "kernelspec": {
   "display_name": "Python 3",
   "language": "python",
   "name": "python3"
  },
  "language_info": {
   "codemirror_mode": {
    "name": "ipython",
    "version": 2
   },
   "file_extension": ".py",
   "mimetype": "text/x-python",
   "name": "python",
   "nbconvert_exporter": "python",
   "pygments_lexer": "ipython2",
   "version": "2.7.6"
  }
 },
 "nbformat": 4,
 "nbformat_minor": 0
}
