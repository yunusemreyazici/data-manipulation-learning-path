{
 "cells": [
  {
   "cell_type": "markdown",
   "source": [
    "#Toplulaştırma ve gruplama (Agregation && Grouping)"
   ],
   "metadata": {
    "collapsed": false
   }
  },
  {
   "cell_type": "markdown",
   "source": [
    "Basit toplulaştırma fonksiyonları\n",
    "- count()\n",
    "- first()\n",
    "- last()\n",
    "- mean()\n",
    "- median()\n",
    "- min()\n",
    "- max()\n",
    "- std()\n",
    "- var()\n",
    "- sum"
   ],
   "metadata": {
    "collapsed": false
   }
  },
  {
   "cell_type": "code",
   "execution_count": 1,
   "outputs": [],
   "source": [
    "import seaborn as sns\n",
    "import ssl\n",
    "ssl._create_default_https_context = ssl._create_unverified_context"
   ],
   "metadata": {
    "collapsed": false
   }
  },
  {
   "cell_type": "code",
   "execution_count": 2,
   "outputs": [],
   "source": [
    "df = sns.load_dataset(\"planets\")"
   ],
   "metadata": {
    "collapsed": false
   }
  },
  {
   "cell_type": "markdown",
   "source": [
    "eğer seaborn hata veriyorsa git reposunu klonlayıp data home da pathını gösterin"
   ],
   "metadata": {
    "collapsed": false
   }
  },
  {
   "cell_type": "code",
   "execution_count": 3,
   "outputs": [],
   "source": [
    "#df = sns.load_dataset(\"planets\",data_home='/Users/emreyazici/yunusemreyazici-github-repos/seaborn-data')\n"
   ],
   "metadata": {
    "collapsed": false
   }
  },
  {
   "cell_type": "code",
   "execution_count": 4,
   "outputs": [
    {
     "data": {
      "text/plain": "            method  number  orbital_period   mass  distance  year\n0  Radial Velocity       1         269.300   7.10     77.40  2006\n1  Radial Velocity       1         874.774   2.21     56.95  2008\n2  Radial Velocity       1         763.000   2.60     19.84  2011\n3  Radial Velocity       1         326.030  19.40    110.62  2007\n4  Radial Velocity       1         516.220  10.50    119.47  2009",
      "text/html": "<div>\n<style scoped>\n    .dataframe tbody tr th:only-of-type {\n        vertical-align: middle;\n    }\n\n    .dataframe tbody tr th {\n        vertical-align: top;\n    }\n\n    .dataframe thead th {\n        text-align: right;\n    }\n</style>\n<table border=\"1\" class=\"dataframe\">\n  <thead>\n    <tr style=\"text-align: right;\">\n      <th></th>\n      <th>method</th>\n      <th>number</th>\n      <th>orbital_period</th>\n      <th>mass</th>\n      <th>distance</th>\n      <th>year</th>\n    </tr>\n  </thead>\n  <tbody>\n    <tr>\n      <th>0</th>\n      <td>Radial Velocity</td>\n      <td>1</td>\n      <td>269.300</td>\n      <td>7.10</td>\n      <td>77.40</td>\n      <td>2006</td>\n    </tr>\n    <tr>\n      <th>1</th>\n      <td>Radial Velocity</td>\n      <td>1</td>\n      <td>874.774</td>\n      <td>2.21</td>\n      <td>56.95</td>\n      <td>2008</td>\n    </tr>\n    <tr>\n      <th>2</th>\n      <td>Radial Velocity</td>\n      <td>1</td>\n      <td>763.000</td>\n      <td>2.60</td>\n      <td>19.84</td>\n      <td>2011</td>\n    </tr>\n    <tr>\n      <th>3</th>\n      <td>Radial Velocity</td>\n      <td>1</td>\n      <td>326.030</td>\n      <td>19.40</td>\n      <td>110.62</td>\n      <td>2007</td>\n    </tr>\n    <tr>\n      <th>4</th>\n      <td>Radial Velocity</td>\n      <td>1</td>\n      <td>516.220</td>\n      <td>10.50</td>\n      <td>119.47</td>\n      <td>2009</td>\n    </tr>\n  </tbody>\n</table>\n</div>"
     },
     "execution_count": 4,
     "metadata": {},
     "output_type": "execute_result"
    }
   ],
   "source": [
    "df.head()"
   ],
   "metadata": {
    "collapsed": false
   }
  },
  {
   "cell_type": "code",
   "execution_count": 5,
   "outputs": [
    {
     "data": {
      "text/plain": "(1035, 6)"
     },
     "execution_count": 5,
     "metadata": {},
     "output_type": "execute_result"
    }
   ],
   "source": [
    "df.shape"
   ],
   "metadata": {
    "collapsed": false
   }
  },
  {
   "cell_type": "code",
   "execution_count": 6,
   "outputs": [
    {
     "name": "stderr",
     "output_type": "stream",
     "text": [
      "/var/folders/qj/wk3vr5c92h15g60hw65zd18r0000gr/T/ipykernel_82501/972437606.py:1: FutureWarning: The default value of numeric_only in DataFrame.mean is deprecated. In a future version, it will default to False. In addition, specifying 'numeric_only=None' is deprecated. Select only valid columns or specify the value of numeric_only to silence this warning.\n",
      "  df.mean()\n"
     ]
    },
    {
     "data": {
      "text/plain": "number               1.785507\norbital_period    2002.917596\nmass                 2.638161\ndistance           264.069282\nyear              2009.070531\ndtype: float64"
     },
     "execution_count": 6,
     "metadata": {},
     "output_type": "execute_result"
    }
   ],
   "source": [
    "df.mean()"
   ],
   "metadata": {
    "collapsed": false
   }
  },
  {
   "cell_type": "code",
   "execution_count": 7,
   "outputs": [
    {
     "data": {
      "text/plain": "2.6381605847953216"
     },
     "execution_count": 7,
     "metadata": {},
     "output_type": "execute_result"
    }
   ],
   "source": [
    "df[\"mass\"].mean()"
   ],
   "metadata": {
    "collapsed": false
   }
  },
  {
   "cell_type": "code",
   "execution_count": 8,
   "outputs": [
    {
     "data": {
      "text/plain": "513"
     },
     "execution_count": 8,
     "metadata": {},
     "output_type": "execute_result"
    }
   ],
   "source": [
    "df[\"mass\"].count()\n"
   ],
   "metadata": {
    "collapsed": false
   }
  },
  {
   "cell_type": "code",
   "execution_count": 9,
   "outputs": [
    {
     "data": {
      "text/plain": "0.0036"
     },
     "execution_count": 9,
     "metadata": {},
     "output_type": "execute_result"
    }
   ],
   "source": [
    "df[\"mass\"].min()\n"
   ],
   "metadata": {
    "collapsed": false
   }
  },
  {
   "cell_type": "code",
   "execution_count": 10,
   "outputs": [
    {
     "data": {
      "text/plain": "25.0"
     },
     "execution_count": 10,
     "metadata": {},
     "output_type": "execute_result"
    }
   ],
   "source": [
    "df[\"mass\"].max()\n"
   ],
   "metadata": {
    "collapsed": false
   }
  },
  {
   "cell_type": "code",
   "execution_count": 11,
   "outputs": [
    {
     "data": {
      "text/plain": "3.8186166509616046"
     },
     "execution_count": 11,
     "metadata": {},
     "output_type": "execute_result"
    }
   ],
   "source": [
    "df[\"mass\"].std()\n"
   ],
   "metadata": {
    "collapsed": false
   }
  },
  {
   "cell_type": "code",
   "execution_count": 12,
   "outputs": [
    {
     "data": {
      "text/plain": "14.58183312700122"
     },
     "execution_count": 12,
     "metadata": {},
     "output_type": "execute_result"
    }
   ],
   "source": [
    "df[\"mass\"].var()\n"
   ],
   "metadata": {
    "collapsed": false
   }
  },
  {
   "cell_type": "code",
   "execution_count": 13,
   "outputs": [
    {
     "data": {
      "text/plain": "            number  orbital_period        mass     distance         year\ncount  1035.000000      992.000000  513.000000   808.000000  1035.000000\nmean      1.785507     2002.917596    2.638161   264.069282  2009.070531\nstd       1.240976    26014.728304    3.818617   733.116493     3.972567\nmin       1.000000        0.090706    0.003600     1.350000  1989.000000\n25%       1.000000        5.442540    0.229000    32.560000  2007.000000\n50%       1.000000       39.979500    1.260000    55.250000  2010.000000\n75%       2.000000      526.005000    3.040000   178.500000  2012.000000\nmax       7.000000   730000.000000   25.000000  8500.000000  2014.000000",
      "text/html": "<div>\n<style scoped>\n    .dataframe tbody tr th:only-of-type {\n        vertical-align: middle;\n    }\n\n    .dataframe tbody tr th {\n        vertical-align: top;\n    }\n\n    .dataframe thead th {\n        text-align: right;\n    }\n</style>\n<table border=\"1\" class=\"dataframe\">\n  <thead>\n    <tr style=\"text-align: right;\">\n      <th></th>\n      <th>number</th>\n      <th>orbital_period</th>\n      <th>mass</th>\n      <th>distance</th>\n      <th>year</th>\n    </tr>\n  </thead>\n  <tbody>\n    <tr>\n      <th>count</th>\n      <td>1035.000000</td>\n      <td>992.000000</td>\n      <td>513.000000</td>\n      <td>808.000000</td>\n      <td>1035.000000</td>\n    </tr>\n    <tr>\n      <th>mean</th>\n      <td>1.785507</td>\n      <td>2002.917596</td>\n      <td>2.638161</td>\n      <td>264.069282</td>\n      <td>2009.070531</td>\n    </tr>\n    <tr>\n      <th>std</th>\n      <td>1.240976</td>\n      <td>26014.728304</td>\n      <td>3.818617</td>\n      <td>733.116493</td>\n      <td>3.972567</td>\n    </tr>\n    <tr>\n      <th>min</th>\n      <td>1.000000</td>\n      <td>0.090706</td>\n      <td>0.003600</td>\n      <td>1.350000</td>\n      <td>1989.000000</td>\n    </tr>\n    <tr>\n      <th>25%</th>\n      <td>1.000000</td>\n      <td>5.442540</td>\n      <td>0.229000</td>\n      <td>32.560000</td>\n      <td>2007.000000</td>\n    </tr>\n    <tr>\n      <th>50%</th>\n      <td>1.000000</td>\n      <td>39.979500</td>\n      <td>1.260000</td>\n      <td>55.250000</td>\n      <td>2010.000000</td>\n    </tr>\n    <tr>\n      <th>75%</th>\n      <td>2.000000</td>\n      <td>526.005000</td>\n      <td>3.040000</td>\n      <td>178.500000</td>\n      <td>2012.000000</td>\n    </tr>\n    <tr>\n      <th>max</th>\n      <td>7.000000</td>\n      <td>730000.000000</td>\n      <td>25.000000</td>\n      <td>8500.000000</td>\n      <td>2014.000000</td>\n    </tr>\n  </tbody>\n</table>\n</div>"
     },
     "execution_count": 13,
     "metadata": {},
     "output_type": "execute_result"
    }
   ],
   "source": [
    "df.describe()"
   ],
   "metadata": {
    "collapsed": false
   }
  },
  {
   "cell_type": "code",
   "execution_count": 14,
   "outputs": [
    {
     "data": {
      "text/plain": "                 count         mean           std          min         25%  \\\nnumber          1035.0     1.785507      1.240976     1.000000     1.00000   \norbital_period   992.0  2002.917596  26014.728304     0.090706     5.44254   \nmass             513.0     2.638161      3.818617     0.003600     0.22900   \ndistance         808.0   264.069282    733.116493     1.350000    32.56000   \nyear            1035.0  2009.070531      3.972567  1989.000000  2007.00000   \n\n                      50%       75%       max  \nnumber             1.0000     2.000       7.0  \norbital_period    39.9795   526.005  730000.0  \nmass               1.2600     3.040      25.0  \ndistance          55.2500   178.500    8500.0  \nyear            2010.0000  2012.000    2014.0  ",
      "text/html": "<div>\n<style scoped>\n    .dataframe tbody tr th:only-of-type {\n        vertical-align: middle;\n    }\n\n    .dataframe tbody tr th {\n        vertical-align: top;\n    }\n\n    .dataframe thead th {\n        text-align: right;\n    }\n</style>\n<table border=\"1\" class=\"dataframe\">\n  <thead>\n    <tr style=\"text-align: right;\">\n      <th></th>\n      <th>count</th>\n      <th>mean</th>\n      <th>std</th>\n      <th>min</th>\n      <th>25%</th>\n      <th>50%</th>\n      <th>75%</th>\n      <th>max</th>\n    </tr>\n  </thead>\n  <tbody>\n    <tr>\n      <th>number</th>\n      <td>1035.0</td>\n      <td>1.785507</td>\n      <td>1.240976</td>\n      <td>1.000000</td>\n      <td>1.00000</td>\n      <td>1.0000</td>\n      <td>2.000</td>\n      <td>7.0</td>\n    </tr>\n    <tr>\n      <th>orbital_period</th>\n      <td>992.0</td>\n      <td>2002.917596</td>\n      <td>26014.728304</td>\n      <td>0.090706</td>\n      <td>5.44254</td>\n      <td>39.9795</td>\n      <td>526.005</td>\n      <td>730000.0</td>\n    </tr>\n    <tr>\n      <th>mass</th>\n      <td>513.0</td>\n      <td>2.638161</td>\n      <td>3.818617</td>\n      <td>0.003600</td>\n      <td>0.22900</td>\n      <td>1.2600</td>\n      <td>3.040</td>\n      <td>25.0</td>\n    </tr>\n    <tr>\n      <th>distance</th>\n      <td>808.0</td>\n      <td>264.069282</td>\n      <td>733.116493</td>\n      <td>1.350000</td>\n      <td>32.56000</td>\n      <td>55.2500</td>\n      <td>178.500</td>\n      <td>8500.0</td>\n    </tr>\n    <tr>\n      <th>year</th>\n      <td>1035.0</td>\n      <td>2009.070531</td>\n      <td>3.972567</td>\n      <td>1989.000000</td>\n      <td>2007.00000</td>\n      <td>2010.0000</td>\n      <td>2012.000</td>\n      <td>2014.0</td>\n    </tr>\n  </tbody>\n</table>\n</div>"
     },
     "execution_count": 14,
     "metadata": {},
     "output_type": "execute_result"
    }
   ],
   "source": [
    "df.describe().T"
   ],
   "metadata": {
    "collapsed": false
   }
  },
  {
   "cell_type": "code",
   "execution_count": 15,
   "outputs": [
    {
     "data": {
      "text/plain": "                count         mean          std        min         25%  \\\nnumber          498.0     1.734940     1.175720     1.0000     1.00000   \norbital_period  498.0   835.778671  1469.128259     1.3283    38.27225   \nmass            498.0     2.509320     3.636274     0.0036     0.21250   \ndistance        498.0    52.068213    46.596041     1.3500    24.49750   \nyear            498.0  2007.377510     4.167284  1989.0000  2005.00000   \n\n                     50%        75%      max  \nnumber             1.000     2.0000      6.0  \norbital_period   357.000   999.6000  17337.5  \nmass               1.245     2.8675     25.0  \ndistance          39.940    59.3325    354.0  \nyear            2009.000  2011.0000   2014.0  ",
      "text/html": "<div>\n<style scoped>\n    .dataframe tbody tr th:only-of-type {\n        vertical-align: middle;\n    }\n\n    .dataframe tbody tr th {\n        vertical-align: top;\n    }\n\n    .dataframe thead th {\n        text-align: right;\n    }\n</style>\n<table border=\"1\" class=\"dataframe\">\n  <thead>\n    <tr style=\"text-align: right;\">\n      <th></th>\n      <th>count</th>\n      <th>mean</th>\n      <th>std</th>\n      <th>min</th>\n      <th>25%</th>\n      <th>50%</th>\n      <th>75%</th>\n      <th>max</th>\n    </tr>\n  </thead>\n  <tbody>\n    <tr>\n      <th>number</th>\n      <td>498.0</td>\n      <td>1.734940</td>\n      <td>1.175720</td>\n      <td>1.0000</td>\n      <td>1.00000</td>\n      <td>1.000</td>\n      <td>2.0000</td>\n      <td>6.0</td>\n    </tr>\n    <tr>\n      <th>orbital_period</th>\n      <td>498.0</td>\n      <td>835.778671</td>\n      <td>1469.128259</td>\n      <td>1.3283</td>\n      <td>38.27225</td>\n      <td>357.000</td>\n      <td>999.6000</td>\n      <td>17337.5</td>\n    </tr>\n    <tr>\n      <th>mass</th>\n      <td>498.0</td>\n      <td>2.509320</td>\n      <td>3.636274</td>\n      <td>0.0036</td>\n      <td>0.21250</td>\n      <td>1.245</td>\n      <td>2.8675</td>\n      <td>25.0</td>\n    </tr>\n    <tr>\n      <th>distance</th>\n      <td>498.0</td>\n      <td>52.068213</td>\n      <td>46.596041</td>\n      <td>1.3500</td>\n      <td>24.49750</td>\n      <td>39.940</td>\n      <td>59.3325</td>\n      <td>354.0</td>\n    </tr>\n    <tr>\n      <th>year</th>\n      <td>498.0</td>\n      <td>2007.377510</td>\n      <td>4.167284</td>\n      <td>1989.0000</td>\n      <td>2005.00000</td>\n      <td>2009.000</td>\n      <td>2011.0000</td>\n      <td>2014.0</td>\n    </tr>\n  </tbody>\n</table>\n</div>"
     },
     "execution_count": 15,
     "metadata": {},
     "output_type": "execute_result"
    }
   ],
   "source": [
    "df.dropna().describe().T"
   ],
   "metadata": {
    "collapsed": false
   }
  },
  {
   "cell_type": "code",
   "execution_count": 16,
   "outputs": [],
   "source": [
    "import json"
   ],
   "metadata": {
    "collapsed": false
   }
  },
  {
   "cell_type": "code",
   "execution_count": null,
   "outputs": [],
   "source": [],
   "metadata": {
    "collapsed": false
   }
  }
 ],
 "metadata": {
  "kernelspec": {
   "display_name": "Python 3",
   "language": "python",
   "name": "python3"
  },
  "language_info": {
   "codemirror_mode": {
    "name": "ipython",
    "version": 2
   },
   "file_extension": ".py",
   "mimetype": "text/x-python",
   "name": "python",
   "nbconvert_exporter": "python",
   "pygments_lexer": "ipython2",
   "version": "2.7.6"
  }
 },
 "nbformat": 4,
 "nbformat_minor": 0
}
